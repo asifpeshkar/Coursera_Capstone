{
 "cells": [
  {
   "cell_type": "markdown",
   "metadata": {},
   "source": [
    "# Capstone Project - The Battle of the Neighborhoods (Presentation)\n",
    "### Applied Data Science Capstone by IBM/Coursera"
   ]
  },
  {
   "cell_type": "markdown",
   "metadata": {},
   "source": [
    "#### Welcome to the final part of Capstone Project. "
   ]
  },
  {
   "cell_type": "markdown",
   "metadata": {},
   "source": [
    "<br><br><a name=\"methodology\"></a><hr><br>\n",
    "<p style=\"text-align:center;\"><b>Optimum points of interests & Venues <br><br>\n",
    "    Data Analysis of London</b></p>\n",
    "<br><br>\n",
    "\n",
    "\n"
   ]
  },
  {
   "cell_type": "markdown",
   "metadata": {},
   "source": [
    "![alt text](Capstone_Images_Presentation01.jpg \"City Of London\")"
   ]
  },
  {
   "cell_type": "markdown",
   "metadata": {},
   "source": [
    "The City of London is a city and county that contains the historic centre and the primary central business district (CBD) of London. It constituted most of London from its settlement by the Romans in the 1st century AD to the Middle Ages, but the agglomeration has since grown far beyond the City's borders. The City is now only a tiny part of the metropolis of London, though it remains a notable part of central London. Administratively, it forms one of the 33 local authority districts of Greater London; however, the City of London is not a London borough, a status reserved for the other 32 districts (including London's only other city, the City of Westminster). It is also a separate county of England, being an enclave surrounded by Greater London. It is the smallest county in the United Kingdom.\n",
    "\n",
    "<i>Source: https://en.wikipedia.org/wiki/City_of_London</i>"
   ]
  },
  {
   "cell_type": "markdown",
   "metadata": {},
   "source": [
    "### Introduction"
   ]
  },
  {
   "cell_type": "markdown",
   "metadata": {},
   "source": [
    "Our clients \"Hoteliers Everywhere Inc.\" required us to generate a recommender system for cusomters staying in areas of London.\n",
    "We used the https://en.wikipedia.org/wiki/List_of_areas_of_London wikipedia page to fetch a list of areas in the city. \n",
    "The Foursquare API was used to generate a list of common venues for each area.\n",
    "We then used the generated data to calculate the best optinum area and the list of Hotels within those areas recommended to the customers."
   ]
  },
  {
   "cell_type": "markdown",
   "metadata": {},
   "source": [
    "### WorkFlow Summary"
   ]
  },
  {
   "cell_type": "markdown",
   "metadata": {},
   "source": [
    "To consider the problem we can list the datas as below:"
   ]
  },
  {
   "cell_type": "markdown",
   "metadata": {},
   "source": [
    "1. We found the list of areas in the City of London Borough using the Wikipedia page. The data was scraped to our datasource using the BeautifulSoup library\n",
    "2. We used Forsquare API to get the most common venues of given Borough of London.\n",
    "3. We collected a list of parameters available to search in the Foursquare API.\n",
    "4. We used 5 parameters, out of the list generated, to calculate the most common venues.\n",
    "5. We then generated a scoring system for each area based on the client parameters per neighborhood. Ths was calculated according to where the parameter was found on the Nth Most Common Venue of the venue. So if the parameter was found as the 1st Most Common Venue, then a maximum score (of 10) was added to the venue. Similarly, the 10th Most Common Venue got the least score (of 1) added to the venue. \n",
    "6. A total of all parameters added to the venue determined how optimum the area is to the collection of the parameters.\n",
    "7. From the sorted list of this scoring system, we got a list of top areas that are closest to the entities as specified by the client parameters. This result represented the most optimum area to stay according to the parameters entered. "
   ]
  },
  {
   "cell_type": "markdown",
   "metadata": {},
   "source": [
    "### WorkFlow Description"
   ]
  },
  {
   "cell_type": "markdown",
   "metadata": {},
   "source": [
    "Using the Wikipedia page, we generated a list of areas. The longitudes and latitudes were added to this generated list using the Geopy's Nominatim library"
   ]
  },
  {
   "cell_type": "markdown",
   "metadata": {},
   "source": [
    "![alt text](Capstone_Images_02_Report_01.JPG \"InitialData\")"
   ]
  },
  {
   "cell_type": "markdown",
   "metadata": {},
   "source": [
    "We used python folium library to visualize geographic details of London and its boroughs. A map of London with boroughs was created with a cluster of areas generated from our dataframe superimposed on top. We used latitude and longitude values to get the visual as below:"
   ]
  },
  {
   "cell_type": "markdown",
   "metadata": {},
   "source": [
    "![alt text](Capstone_Images_02_Analysis_01.JPG \"InitialData\")"
   ]
  },
  {
   "cell_type": "markdown",
   "metadata": {},
   "source": [
    "Using the Foursquare's API, we created a list of venue belonging to each neighborhood. A summary of this list is ..."
   ]
  },
  {
   "cell_type": "markdown",
   "metadata": {},
   "source": [
    "![alt text](Capstone_Images_Presentation02.jpg \"VenueList\")"
   ]
  },
  {
   "cell_type": "markdown",
   "metadata": {},
   "source": [
    "We extracted a list of common venues from each area and saved the results for further calculations."
   ]
  },
  {
   "cell_type": "markdown",
   "metadata": {},
   "source": [
    "![alt text](Capstone_Images_Presentation03.jpg \"VenueFrequency\")"
   ]
  },
  {
   "cell_type": "markdown",
   "metadata": {},
   "source": [
    "We then generated a list of most common venues for each area."
   ]
  },
  {
   "cell_type": "markdown",
   "metadata": {},
   "source": [
    "![alt text](Capstone_Images_Presentation04.jpg \"VenueFrequency\")"
   ]
  },
  {
   "cell_type": "markdown",
   "metadata": {},
   "source": [
    "A calculation with the list of parameters passed (taking a customer point of interest in consideration) against this generated list gave us a summary of areas mostly likely falling closest to the customer's preference."
   ]
  },
  {
   "cell_type": "markdown",
   "metadata": {},
   "source": [
    "![alt text](Capstone_Images_02_Analysis_03.JPG \"TopAreas\")"
   ]
  },
  {
   "cell_type": "markdown",
   "metadata": {},
   "source": [
    "Our summarised list of areas was used further to generate a list of Hotels that fall under these areas."
   ]
  },
  {
   "cell_type": "markdown",
   "metadata": {},
   "source": [
    "![alt text](Capstone_Images_02_Analysis_07.JPG \"TopAreas\")"
   ]
  },
  {
   "cell_type": "markdown",
   "metadata": {},
   "source": [
    "![alt text](Capstone_Images_02_Analysis_04.JPG \"TopHotels\")"
   ]
  },
  {
   "cell_type": "markdown",
   "metadata": {},
   "source": [
    "In summary section, we were able to visualize the Venues for each Areas in the Borough of London. The results were presented to the client with a training on how the presentation can be run.\n",
    "\n",
    "A detailed explanation was provided on how to generate the parameters, change them within the presentation and re-run. This enables the clients to re-use the report multiple times and match the customer requirements.\n",
    "\n"
   ]
  },
  {
   "cell_type": "markdown",
   "metadata": {},
   "source": [
    "The results indicated the optimum areas and list of Hotels for the customers based on their reqirements. The clients have accepted our proposal and the model will be implemented."
   ]
  },
  {
   "cell_type": "code",
   "execution_count": null,
   "metadata": {},
   "outputs": [],
   "source": []
  }
 ],
 "metadata": {
  "kernelspec": {
   "display_name": "Python 3",
   "language": "python",
   "name": "python3"
  },
  "language_info": {
   "codemirror_mode": {
    "name": "ipython",
    "version": 3
   },
   "file_extension": ".py",
   "mimetype": "text/x-python",
   "name": "python",
   "nbconvert_exporter": "python",
   "pygments_lexer": "ipython3",
   "version": "3.7.1"
  }
 },
 "nbformat": 4,
 "nbformat_minor": 2
}
