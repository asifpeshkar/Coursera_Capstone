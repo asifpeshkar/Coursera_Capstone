{
 "cells": [
  {
   "cell_type": "markdown",
   "metadata": {},
   "source": [
    "# Capstone Project - The Battle of the Neighborhoods (Report)\n",
    "### Applied Data Science Capstone by IBM/Coursera"
   ]
  },
  {
   "cell_type": "markdown",
   "metadata": {},
   "source": [
    " ## Table of contents\n",
    "* [Introduction](#introduction)\n",
    "* [Data Setup](#data)\n",
    "* [Methodology](#methodology)\n",
    "* [Discussion](#discussion)\n",
    "* [Conclusion](#conclusion)\n",
    "* [Footer Note](#footer)"
   ]
  },
  {
   "cell_type": "markdown",
   "metadata": {},
   "source": [
    "<br><br> <a name=\"introduction\"></a><hr><br>\n",
    "## <b><u>Introduction:</b></u> \n",
    "<br><br>\n",
    "Our clients are a Travel Consultants seeking a recommender system for the most optimum area of stay and alist of Hotels. This result will be based on a number of parameters (points of interest) the customers are seeking. These parameters could be anything from a specific restaurant, Gym, Bakery, Museums, Zoo, areas of shopping and so on.\n",
    "\n",
    "After a formal meeting with the clients we have understood the requirements and went ahead with the recommender system. We have discussed the solution that will be delivered by us.\n"
   ]
  },
  {
   "cell_type": "markdown",
   "metadata": {},
   "source": [
    "<br><br><a name=\"data\"></a><hr><br>\n",
    "## <b><u>Data Setup:</b></u>\n",
    "<br><br>\n",
    "Since the requirements were general and applied to the entire city of London, we did not seek any specific data from the client to work upon. We made use of this Wikipedia page to fetch a list of all neighborhoods in the city ...\n",
    "\n",
    "https://en.wikipedia.org/wiki/List_of_areas_of_London \n"
   ]
  },
  {
   "cell_type": "markdown",
   "metadata": {},
   "source": [
    "![alt text](Capstone_Images_02_Report_01.JPG \"InitialData\")"
   ]
  },
  {
   "cell_type": "markdown",
   "metadata": {},
   "source": [
    "\n"
   ]
  },
  {
   "cell_type": "markdown",
   "metadata": {},
   "source": [
    "Once we got this geo-locational information, we generated a cluster map indicating the major areas in the city suitable for a good stay. We were able to achieve this using the Foursquare API."
   ]
  },
  {
   "cell_type": "markdown",
   "metadata": {},
   "source": [
    "![alt text](Capstone_Images_02_Data_01_ClusterMap.JPG \"ClusterMap\")"
   ]
  },
  {
   "cell_type": "markdown",
   "metadata": {},
   "source": [
    "Each area was evaulated for top venues that it's known for. This data will be calulated against the parameters for customer's points of interest asked by the clients."
   ]
  },
  {
   "cell_type": "markdown",
   "metadata": {},
   "source": [
    "![alt text](Capstone_Images_02_Analysis_05.JPG \"InitialData\")"
   ]
  },
  {
   "cell_type": "markdown",
   "metadata": {},
   "source": [
    "<br><br><a name=\"methodology\"></a><hr><br>\n",
    "## <b><u>Methodology:</b></u>\n",
    "<br><br>\n",
    "We assigned a list of parameters and worked through them on the list of neigborhoods generated through the Foursquare API. \n",
    "\n",
    "We then generated a scoring system for each area based on the client parameters per neighborhood. Ths was calculated according to where the parameter was found on the Nth Most Common Venue of the venue. So if the parameter was found as the 1st Most Common Venue, then a maximum score (of 10) was added to the venue. Similarly, the 10th Most Common Venue got the least score (of 1) added to the venue. A total of all parameters added to the venue determined how optimum the area is to the collection of the parameters.\n",
    "\n",
    "From the sorted list of this scoring system, we got a list of top areas that are closest to the entities as specified by the client parameters. This result represented the most optimum area to stay according to the parameters entered.\n",
    "\n",
    "\n"
   ]
  },
  {
   "cell_type": "markdown",
   "metadata": {},
   "source": [
    "![alt text](Capstone_Images_02_Analysis_06.JPG \"InitialData\")"
   ]
  },
  {
   "cell_type": "markdown",
   "metadata": {},
   "source": [
    "<br><br><a name=\"results\"></a><hr><br>\n",
    "## <b><u>Results:</b></u>\n",
    "<br><br>\n"
   ]
  },
  {
   "cell_type": "markdown",
   "metadata": {},
   "source": [
    "We calculate the score for each venue and sort them by the total of this finding. A sorted order thus gives us a list of areas most suitable for the customer according to their points of interest. We collect a list of top 10 areas and present them to the clients."
   ]
  },
  {
   "cell_type": "markdown",
   "metadata": {},
   "source": [
    "![alt text](Capstone_Images_02_Analysis_03.JPG \"Top 10 Areas\")"
   ]
  },
  {
   "cell_type": "markdown",
   "metadata": {},
   "source": [
    "Using the same Foursquare API, and the results collected so far, we generate a list of hotels falling under our top 10 areas"
   ]
  },
  {
   "cell_type": "markdown",
   "metadata": {},
   "source": [
    "![alt text](Capstone_Images_02_Analysis_07.JPG \"HotelList\")"
   ]
  },
  {
   "cell_type": "markdown",
   "metadata": {},
   "source": [
    "It says, a picture is worth a thousand words. We generate a final report as maps of the areas with markers showing the addresses of the Hotels"
   ]
  },
  {
   "cell_type": "markdown",
   "metadata": {},
   "source": [
    "![alt text](Capstone_Images_02_Analysis_04.JPG \"Top 10 Areas\")"
   ]
  },
  {
   "cell_type": "markdown",
   "metadata": {},
   "source": [
    "<br><br><a name=\"discussion\"></a><hr><br>\n",
    "## <b><u>Discussion:</b></u></font> \n",
    "<br><br>\n",
    "\n",
    "The results were presented to the clients with a training on how the presentation can be run. \n",
    "\n",
    "A detailed explanation was provided on how to generate the parameters, change them within the presentation and re-run. This enables the clients to re-use the report multiple times and match the customer requirements."
   ]
  },
  {
   "cell_type": "markdown",
   "metadata": {},
   "source": [
    "<br><br><a name=\"conclusion\"></a><hr><br>\n",
    "## <b><u>Conclusion:</b></u>\n",
    "<br><br>\n",
    "\n",
    "A detailed visual representation (by means of results, maps and graphs) were presented to the clients. The results indicated the optimum areas and list of Hotels for the customers based on their reqirements. The clients have accepted our proposal and the model will be implemented.\n"
   ]
  },
  {
   "cell_type": "markdown",
   "metadata": {},
   "source": [
    "<br><br><br><br><br><br><br><br><br><br><br><br>\n",
    "<br><br><hr><br>\n",
    "<font size=\"3\"><b><u>Footer Note:</b></u></font> <a name=\"footer\"></a> Thank you for reviewing my work.\n",
    "<br><br>"
   ]
  },
  {
   "cell_type": "code",
   "execution_count": null,
   "metadata": {},
   "outputs": [],
   "source": []
  }
 ],
 "metadata": {
  "kernelspec": {
   "display_name": "Python 3",
   "language": "python",
   "name": "python3"
  },
  "language_info": {
   "codemirror_mode": {
    "name": "ipython",
    "version": 3
   },
   "file_extension": ".py",
   "mimetype": "text/x-python",
   "name": "python",
   "nbconvert_exporter": "python",
   "pygments_lexer": "ipython3",
   "version": "3.7.1"
  }
 },
 "nbformat": 4,
 "nbformat_minor": 2
}
